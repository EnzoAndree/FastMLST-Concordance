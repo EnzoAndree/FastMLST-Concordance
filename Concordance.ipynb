{
 "cells": [
  {
   "cell_type": "code",
   "execution_count": 1,
   "id": "88ac4ca8",
   "metadata": {},
   "outputs": [],
   "source": [
    "import pandas as pd\n",
    "from pathlib import Path\n",
    "import numpy as np"
   ]
  },
  {
   "cell_type": "code",
   "execution_count": 5,
   "id": "c13d40c8",
   "metadata": {},
   "outputs": [],
   "source": [
    "from sklearn.metrics import cohen_kappa_score\n",
    "completefast = []\n",
    "completepub = []\n",
    "def get_concordance(scheme):\n",
    "    pubmlst = pd.read_csv(f'pubmlst_output/{scheme}.csv', index_col=0)\n",
    "    pubmlst.sort_index(inplace=True)\n",
    "    pubmlst.drop(columns='Scheme', inplace=True)\n",
    "    ## Especial case in\n",
    "    if scheme == 'ypseudotuberculosis':\n",
    "        pubmlst.columns = pubmlst.columns.str.replace(r'^Yersinia_pseudotuberculosis_MLST_', '', regex=True)\n",
    "    if scheme == 'mcatarrhalis':\n",
    "        pubmlst.columns = pubmlst.columns.str.replace(r'^Moraxella_catarrhalis_MLST_', '', regex=True)\n",
    "#         print(pubmlst)\n",
    "    ##\n",
    "    comp_pubmlst = pubmlst.copy()\n",
    "    comp_pubmlst[comp_pubmlst.columns] = comp_pubmlst[comp_pubmlst.columns].apply(pd.to_numeric, errors='coerce')\n",
    "    typed_pubmlst = comp_pubmlst.loc[comp_pubmlst['ST'].notnull()]\n",
    "    fastmlst = pd.read_csv(f'fastmlst_output/{scheme}.csv', index_col=0)\n",
    "    fastmlst.sort_index(inplace=True)\n",
    "    fastmlst.drop(columns='Scheme', inplace=True)\n",
    "    comp_fastmlst = fastmlst.copy()\n",
    "    comp_fastmlst[comp_fastmlst.columns] = comp_fastmlst[comp_fastmlst.columns].apply(pd.to_numeric, errors='coerce')\n",
    "    # FastMLST extra column drop\n",
    "    extracolumn = set(comp_fastmlst.columns) - set(comp_pubmlst.columns)\n",
    "    if extracolumn:\n",
    "        comp_fastmlst.drop(columns=extracolumn, inplace=True)\n",
    "    typed_fastmlst = comp_fastmlst.loc[comp_fastmlst['ST'].notnull()]\n",
    "\n",
    "    # Check if any program make more typing\n",
    "    extrain = None\n",
    "    tokapa_pubmlst = typed_pubmlst.copy()\n",
    "    if len(typed_pubmlst) != len(typed_fastmlst):\n",
    "        if len(typed_pubmlst) > len(typed_fastmlst):\n",
    "            extrain = 'pubmlst'\n",
    "            extragenometyped = list(set(typed_pubmlst.index) - set(typed_fastmlst.index))\n",
    "            print(extragenometyped)\n",
    "            print(fastmlst.loc[extragenometyped].to_csv(f'{scheme}_nottypedby_fastmlst.csv'))\n",
    "            print('-'*20)\n",
    "            typed_pubmlst = typed_pubmlst.drop(extragenometyped)\n",
    "        else:\n",
    "            extrain = 'fastmlst'\n",
    "            extragenometyped = list(set(typed_fastmlst.index) - set(typed_pubmlst.index))\n",
    "            comp_fastmlst = comp_fastmlst.drop(extragenometyped)\n",
    "#         print(scheme ,extrain, extragenometyped)\n",
    "#     print(typed_pubmlst.columns)\n",
    "#     print(typed_fastmlst.columns)\n",
    "    # Check concordance\n",
    "    try:\n",
    "        concordance = typed_fastmlst.sort_index(axis=1) == typed_pubmlst.sort_index(axis=1)\n",
    "    except Exception as e:\n",
    "#         print(typed_fastmlst.sort_index(axis=1))\n",
    "        print(scheme,typed_pubmlst.sort_index(axis=1))\n",
    "    totalhits = len(typed_pubmlst['ST'])\n",
    "    positivehit = int(concordance['ST'].loc[concordance['ST'] == True].count())\n",
    "    negativehit = int(concordance['ST'].loc[concordance['ST'] == False].count())\n",
    "    if totalhits == 0:\n",
    "#         print(f'{scheme} no assigned pubmlst')\n",
    "        summary = {'scheme': scheme, \n",
    "                'concordance': 'pubmlst_NA',\n",
    "                'pubmlst_typed': totalhits,\n",
    "                'pubmlst_typed': positivehit,\n",
    "                'kappa': 'NA',\n",
    "               }\n",
    "        return summary\n",
    "    if extrain == 'pubmlst':\n",
    "        totalhits += len(extragenometyped)\n",
    "    elif extrain == 'fastmlst':\n",
    "        positivehit += len(extragenometyped)\n",
    "    raw_fastmlst_to_compare = fastmlst.loc[tokapa_pubmlst.index]\n",
    "#     print(tokapa_pubmlst.sort_index(axis=1)['ST'].to_string())\n",
    "#     if scheme == 'sagalactiae':\n",
    "#     print(tokapa_pubmlst.sort_index(axis=1)['ST'].astype(str))\n",
    "#     print(raw_fastmlst_to_compare.sort_index(axis=1)['ST'].astype(str))\n",
    "    \n",
    "    concordancefactor = (positivehit-negativehit)/totalhits\n",
    "    summary = {'scheme': scheme, \n",
    "            'concordance': concordancefactor,\n",
    "            'pubmlst_typed': totalhits,\n",
    "            'fastmlst_typed': positivehit,\n",
    "            'kappa': cohen_kappa_score(list(tokapa_pubmlst.sort_index(axis=1)['ST'].astype(int, errors='ignore').astype(str)), list(raw_fastmlst_to_compare.sort_index(axis=1)['ST'].astype(int,errors='ignore').astype(str)))\n",
    "           }\n",
    "    completefast.extend(list(raw_fastmlst_to_compare.sort_index(axis=1)['ST'].astype(int,errors='ignore').astype(str)))\n",
    "    completepub.extend(list(tokapa_pubmlst.sort_index(axis=1)['ST'].astype(int, errors='ignore').astype(str)))\n",
    "    return summary\n",
    "#     print(f'Concordance among typed assemblies in {scheme}: {concordancefactor} ({positivehit}/{totalhits})')"
   ]
  },
  {
   "cell_type": "code",
   "execution_count": 6,
   "id": "c7ef70c8",
   "metadata": {},
   "outputs": [
    {
     "name": "stdout",
     "output_type": "stream",
     "text": [
      "['GCF_014397205.fna.gz']\n",
      "None\n",
      "--------------------\n",
      "['GCF_900076365.fna.gz', 'GCF_001056585.fna.gz', 'GCF_001055075.fna.gz']\n",
      "None\n",
      "--------------------\n",
      "['GCF_003213725.fna.gz']\n",
      "None\n",
      "--------------------\n",
      "['GCF_001280245.fna.gz']\n",
      "None\n",
      "--------------------\n",
      "['GCF_002529345.fna.gz']\n",
      "None\n",
      "--------------------\n",
      "['GCF_001694045.fna.gz', 'GCF_009934315.fna.gz', 'GCF_009933805.fna.gz', 'GCF_014875305.fna.gz', 'GCF_000290335.fna.gz', 'GCF_900475355.fna.gz', 'GCF_001546715.fna.gz', 'GCF_001694815.fna.gz', 'GCF_003288055.fna.gz', 'GCF_001190845.fna.gz', 'GCF_000289195.fna.gz', 'GCF_002937095.fna.gz', 'GCF_011326915.fna.gz', 'GCF_000347415.fna.gz', 'GCF_001348575.fna.gz', 'GCF_000299135.fna.gz', 'GCF_001693965.fna.gz', 'GCF_001856445.fna.gz', 'GCF_000289355.fna.gz', 'GCF_001694125.fna.gz', 'GCF_000288295.fna.gz', 'GCF_008710735.fna.gz', 'GCF_001217725.fna.gz', 'GCF_003287995.fna.gz', 'GCF_001694435.fna.gz', 'GCF_002812465.fna.gz', 'GCF_001856455.fna.gz', 'GCF_001694355.fna.gz', 'GCF_001694495.fna.gz', 'GCF_001695155.fna.gz', 'GCF_014875705.fna.gz', 'GCF_003319215.fna.gz', 'GCF_001190805.fna.gz', 'GCF_001592425.fna.gz', 'GCF_001693955.fna.gz', 'GCF_000311025.fna.gz', 'GCF_000289275.fna.gz', 'GCF_000826025.fna.gz', 'GCF_000311665.fna.gz', 'GCF_002176615.fna.gz', 'GCF_000310825.fna.gz', 'GCF_013000945.fna.gz', 'GCF_000714695.fna.gz', 'GCF_001348535.fna.gz', 'GCF_014875145.fna.gz', 'GCF_011319395.fna.gz', 'GCF_011379065.fna.gz', 'GCF_001017925.fna.gz', 'GCF_001695025.fna.gz', 'GCF_000310325.fna.gz', 'GCF_001856475.fna.gz', 'GCF_006543435.fna.gz', 'GCF_000289235.fna.gz', 'GCF_000310965.fna.gz', 'GCF_009933915.fna.gz', 'GCF_000310385.fna.gz', 'GCF_001017845.fna.gz', 'GCF_008710675.fna.gz', 'GCF_001016525.fna.gz', 'GCF_009934265.fna.gz', 'GCF_009933795.fna.gz', 'GCF_003160745.fna.gz', 'GCF_008710585.fna.gz', 'GCF_000323045.fna.gz', 'GCF_001693995.fna.gz', 'GCF_004369765.fna.gz', 'GCF_001015525.fna.gz', 'GCF_001694585.fna.gz', 'GCF_002930695.fna.gz', 'GCF_000454925.fna.gz', 'GCF_001694625.fna.gz', 'GCF_004369855.fna.gz', 'GCF_011379245.fna.gz', 'GCF_001695175.fna.gz', 'GCF_004369745.fna.gz', 'GCF_001695075.fna.gz', 'GCF_000322725.fna.gz', 'GCF_001694555.fna.gz', 'GCF_000288855.fna.gz', 'GCF_000289075.fna.gz', 'GCF_001146845.fna.gz', 'GCF_004369875.fna.gz', 'GCF_900459105.fna.gz', 'GCF_002197285.fna.gz', 'GCF_001348975.fna.gz', 'GCF_000012705.fna.gz', 'GCF_001016215.fna.gz', 'GCF_001695095.fna.gz', 'GCF_011379175.fna.gz', 'GCF_009934875.fna.gz', 'GCF_009934475.fna.gz', 'GCF_001856425.fna.gz', 'GCF_001694095.fna.gz', 'GCF_011327175.fna.gz', 'GCF_000310305.fna.gz', 'GCF_001017935.fna.gz', 'GCF_001694395.fna.gz', 'GCF_004369785.fna.gz', 'GCF_009933945.fna.gz', 'GCF_001275545.fna.gz', 'GCF_001694985.fna.gz', 'GCF_001018415.fna.gz', 'GCF_001695055.fna.gz', 'GCF_001015695.fna.gz', 'GCF_002871335.fna.gz', 'GCF_001098005.fna.gz', 'GCF_006543425.fna.gz', 'GCF_000288415.fna.gz', 'GCF_001016435.fna.gz', 'GCF_000289435.fna.gz', 'GCF_002197205.fna.gz', 'GCF_001694705.fna.gz', 'GCF_001694475.fna.gz', 'GCF_011379325.fna.gz', 'GCF_002930675.fna.gz', 'GCF_000310645.fna.gz', 'GCF_008710345.fna.gz', 'GCF_011379415.fna.gz', 'GCF_003939065.fna.gz', 'GCF_008710805.fna.gz', 'GCF_002812425.fna.gz', 'GCF_001694365.fna.gz', 'GCF_003160735.fna.gz', 'GCF_000290415.fna.gz', 'GCF_003931955.fna.gz', 'GCF_000730215.fna.gz', 'GCF_001694675.fna.gz', 'GCF_002197245.fna.gz', 'GCF_001694155.fna.gz', 'GCF_000311485.fna.gz', 'GCF_011327005.fna.gz', 'GCF_900459255.fna.gz', 'GCF_000310545.fna.gz', 'GCF_001592615.fna.gz', 'GCF_001123605.fna.gz', 'GCF_004349485.fna.gz', 'GCF_009934175.fna.gz', 'GCF_000289155.fna.gz', 'GCF_009933635.fna.gz', 'GCF_001856505.fna.gz', 'GCF_000310745.fna.gz', 'GCF_009934235.fna.gz', 'GCF_009933485.fna.gz', 'GCF_000290235.fna.gz', 'GCF_000289555.fna.gz', 'GCF_008806305.fna.gz', 'GCF_001694205.fna.gz', 'GCF_000264975.fna.gz', 'GCF_001015435.fna.gz', 'GCF_006543405.fna.gz', 'GCF_002176575.fna.gz', 'GCF_002266935.fna.gz', 'GCF_002197265.fna.gz', 'GCF_000347435.fna.gz', 'GCF_000288315.fna.gz', 'GCF_001694325.fna.gz', 'GCF_001693835.fna.gz', 'GCF_006543465.fna.gz', 'GCF_000289515.fna.gz', 'GCF_000455065.fna.gz', 'GCF_000322485.fna.gz', 'GCF_001693915.fna.gz', 'GCF_001694745.fna.gz', 'GCF_001018395.fna.gz', 'GCF_000289995.fna.gz', 'GCF_001348675.fna.gz', 'GCF_001015505.fna.gz', 'GCF_002025025.fna.gz', 'GCF_002197425.fna.gz', 'GCF_001856395.fna.gz', 'GCF_000290155.fna.gz', 'GCF_000311405.fna.gz', 'GCF_002239205.fna.gz', 'GCF_001190825.fna.gz', 'GCF_001104145.fna.gz', 'GCF_000736485.fna.gz', 'GCF_000290515.fna.gz', 'GCF_000289175.fna.gz', 'GCF_001016065.fna.gz', 'GCF_001693845.fna.gz', 'GCF_009933835.fna.gz', 'GCF_000289675.fna.gz', 'GCF_000322845.fna.gz', 'GCF_001546685.fna.gz', 'GCF_004369845.fna.gz', 'GCF_002871535.fna.gz', 'GCF_009933365.fna.gz', 'GCF_001675305.fna.gz', 'GCF_000310625.fna.gz', 'GCF_002930685.fna.gz', 'GCF_002861005.fna.gz', 'GCF_000310765.fna.gz', 'GCF_001098165.fna.gz', 'GCF_001348895.fna.gz', 'GCF_001592385.fna.gz', 'GCF_001694515.fna.gz', 'GCF_001694285.fna.gz', 'GCF_003931905.fna.gz', 'GCF_000715315.fna.gz', 'GCF_003605605.fna.gz', 'GCF_001119265.fna.gz', 'GCF_000311685.fna.gz', 'GCF_012222485.fna.gz', 'GCF_002812445.fna.gz', 'GCF_002937055.fna.gz', 'GCF_002266915.fna.gz', 'GCF_003859455.fna.gz', 'GCF_004349445.fna.gz', 'GCF_004369755.fna.gz', 'GCF_001349015.fna.gz', 'GCF_004120435.fna.gz', 'GCF_001592635.fna.gz', 'GCF_009495855.fna.gz', 'GCF_000289035.fna.gz', 'GCF_000310985.fna.gz', 'GCF_000288455.fna.gz', 'GCF_000311525.fna.gz', 'GCF_000289255.fna.gz', 'GCF_009934755.fna.gz', 'GCF_004369775.fna.gz', 'GCF_001695135.fna.gz', 'GCF_011383065.fna.gz', 'GCF_000290455.fna.gz', 'GCF_000289215.fna.gz', 'GCF_011327295.fna.gz', 'GCF_009934575.fna.gz', 'GCF_001694315.fna.gz', 'GCF_001546785.fna.gz', 'GCF_001694725.fna.gz', 'GCF_005233955.fna.gz', 'GCF_003640725.fna.gz', 'GCF_008710375.fna.gz', 'GCF_000715295.fna.gz', 'GCF_001683515.fna.gz', 'GCF_002266925.fna.gz', 'GCF_003859445.fna.gz', 'GCF_001729925.fna.gz', 'GCF_001018335.fna.gz', 'GCF_002176585.fna.gz', 'GCF_009933745.fna.gz', 'GCF_002246945.fna.gz', 'GCF_900474905.fna.gz', 'GCF_012030185.fna.gz', 'GCF_000290535.fna.gz', 'GCF_009934195.fna.gz', 'GCF_002812505.fna.gz', 'GCF_000289575.fna.gz', 'GCF_014874895.fna.gz', 'GCF_001101765.fna.gz', 'GCF_001693865.fna.gz', 'GCF_000311125.fna.gz']\n",
      "None\n",
      "--------------------\n"
     ]
    }
   ],
   "source": [
    "pubmlstpath = Path('pubmlst_output/')\n",
    "data_sum = []\n",
    "for sch in pubmlstpath.glob('*.csv'):\n",
    "    data_sum.append(get_concordance(sch.stem))\n",
    "concord = pd.DataFrame(data_sum)\n",
    "concord.set_index('scheme', inplace=True)\n",
    "# concord\n",
    "concord.to_csv('concordance.csv')"
   ]
  },
  {
   "cell_type": "code",
   "execution_count": 30,
   "id": "e94e9540",
   "metadata": {},
   "outputs": [
    {
     "name": "stdout",
     "output_type": "stream",
     "text": [
      "Overall kappa: 0.9904763615702162\n"
     ]
    }
   ],
   "source": [
    "# general concordance \n",
    "# pubmlst = 27_359\n",
    "# fastmlst = 27_101\n",
    "# concordance_total = fastmlst/pubmlst\n",
    "# rfastmlst = list(range(fastmlst)) + [1]*(pubmlst-fastmlst)\n",
    "# rpubmlst = list(range(fastmlst)) + [0]*(pubmlst-fastmlst)\n",
    "# print(len(rpubmlst), len(rfastmlst))\n",
    "print('Overall kappa:', cohen_kappa_score(completefast, completepub))"
   ]
  },
  {
   "cell_type": "code",
   "execution_count": 44,
   "id": "b4ebb11c",
   "metadata": {},
   "outputs": [],
   "source": [
    "#Novel or new ST\n",
    "def new_ST(scheme):\n",
    "    fastmlst = pd.read_csv(f'fastmlst_output/{scheme}.csv', index_col=0)\n",
    "    fastmlst.sort_index(inplace=True)\n",
    "    return len(fastmlst.loc[fastmlst['ST'].astype(str).str.startswith('new_ST')])\n",
    "def new_alleles(scheme):\n",
    "    fastmlst = pd.read_csv(f'fastmlst_output/{scheme}.csv', index_col=0)\n",
    "    fastmlst.sort_index(inplace=True)\n",
    "    return len(fastmlst.loc[fastmlst['ST'].astype(str).str.startswith('new_alleles')])\n",
    "# print(novel('efaecium')['ST'].value_counts())\n",
    "extra_fastmlst = []\n",
    "for sch in pubmlstpath.glob('*.csv'):\n",
    "#     data_novelST.append(new_ST(sch.stem))\n",
    "#     data_novelallele.append(new_alleles(sch.stem))\n",
    "    datadict = {'Scheme': sch.stem, 'new_ST': new_ST(sch.stem), 'new_alleles': new_alleles(sch.stem)}\n",
    "    extra_fastmlst.append(datadict)\n"
   ]
  },
  {
   "cell_type": "code",
   "execution_count": 46,
   "id": "e27834eb",
   "metadata": {},
   "outputs": [],
   "source": [
    "df_extra_fastmlst = pd.DataFrame(extra_fastmlst)\n",
    "df_extra_fastmlst.set_index('Scheme', inplace=True)\n",
    "df_extra_fastmlst.to_csv('extra_info_fastmlst.csv')"
   ]
  },
  {
   "cell_type": "code",
   "execution_count": 29,
   "id": "6e980c28",
   "metadata": {},
   "outputs": [
    {
     "name": "stdout",
     "output_type": "stream",
     "text": [
      "New ST: 1163\n",
      "New alleles: 3453\n"
     ]
    }
   ],
   "source": [
    "# sum([len(x) for x in data_novel])\n",
    "print('New ST:', sum([len(x) for x in data_novelST]))\n",
    "print('New alleles:', sum([len(x) for x in data_novelallele]))\n"
   ]
  },
  {
   "cell_type": "code",
   "execution_count": 36,
   "id": "2a872ab0",
   "metadata": {},
   "outputs": [],
   "source": [
    "#Description assembly-stats\n",
    "astats = pd.read_csv('assembly-stats.tsv', sep='\\t')\n",
    "astats.groupby('Scheme').describe().to_csv('assembly-stats-description.scv')"
   ]
  }
 ],
 "metadata": {
  "kernelspec": {
   "display_name": "Python 3 (ipykernel)",
   "language": "python",
   "name": "python3"
  },
  "language_info": {
   "codemirror_mode": {
    "name": "ipython",
    "version": 3
   },
   "file_extension": ".py",
   "mimetype": "text/x-python",
   "name": "python",
   "nbconvert_exporter": "python",
   "pygments_lexer": "ipython3",
   "version": "3.9.1"
  }
 },
 "nbformat": 4,
 "nbformat_minor": 5
}
